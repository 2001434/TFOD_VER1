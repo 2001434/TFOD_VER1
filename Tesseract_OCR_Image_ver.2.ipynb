{
 "cells": [
  {
   "cell_type": "code",
   "execution_count": 2,
   "id": "5cf56fab",
   "metadata": {},
   "outputs": [],
   "source": [
    "import numpy as np\n",
    "import cv2\n",
    "import matplotlib.pyplot as plt\n",
    "import pytesseract as pt\n",
    "import imutils\n",
    "\n",
    "from matplotlib.colors import NoNorm\n",
    "from skimage.filters import threshold_local\n",
    "from PIL import Image"
   ]
  },
  {
   "cell_type": "markdown",
   "id": "46f473dc",
   "metadata": {},
   "source": [
    "Plot Text"
   ]
  },
  {
   "cell_type": "code",
   "execution_count": 3,
   "id": "0ba3d56b",
   "metadata": {},
   "outputs": [
    {
     "name": "stdout",
     "output_type": "stream",
     "text": [
      "<class 'str'> 646\n",
      "wtsocons .\n",
      "\n",
      "look good feel great\n",
      "Watson Ss The Chemist\n",
      "Jordan Road - 2785 9066\n",
      "\n",
      "易賞錢客戶:\n",
      "本次獲得積分:                    36\n",
      "易濁錢積分結餘:                  950\n",
      "116180 藥片林檬味65.50\n",
      "145582 特級潤滑劑              51.50\n",
      "259861 和葡甘露聚糖素食歇賣4       58.00\n",
      "290507 抗菌汪淨煙濕巾10片3       45.90\n",
      "易賞錢會員折扣               -1.60\n",
      "AntiB Wet W Rdi       -5.40\n",
      "Ant1B Wet W RO MB            -0.90\n",
      "4 總計$183.00\n",
      "只TERCARD                     89 00\n",
      "卡號碼                次交談※炎X※\n",
      "\n",
      "批次編號: 000509   迭權編號:  R01445\n",
      "找續                                 $0.00\n",
      "\n",
      "59929 10 HIERTE 18/07/21 20292 POS#02\n",
      "2 WWW.watsonS.00,hhk ~~~\n",
      "\n",
      "AS Watson Retall (HK) Limited\n",
      "選臣氏窖售(香港)有限公司\n",
      "多並惠顧屈巴氏\n",
      "liank_ you for choosing9 WatsonS\n",
      "\f",
      "\n"
     ]
    }
   ],
   "source": [
    "img_path = 'C:\\\\Users\\\\User\\\\Documents\\\\train\\\\13.jpg'\n",
    "\n",
    "img = cv2.imread(img_path,0)\n",
    "#plt.imshow(img, cmap = 'gray', interpolation = 'bicubic')\n",
    "#plt.show()\n",
    "\n",
    "text = pt.image_to_string(img, lang=\"chi_tra\")\n",
    "print(type(text),len(text))\n",
    "print(text)\n"
   ]
  },
  {
   "cell_type": "markdown",
   "id": "7a36c64d",
   "metadata": {},
   "source": [
    "trying the online version of ocr"
   ]
  },
  {
   "cell_type": "code",
   "execution_count": 4,
   "id": "1332c1fb",
   "metadata": {},
   "outputs": [],
   "source": [
    "# coding=utf-8\n",
    "\n",
    "origin_pic = 'C:\\\\Users\\\\User\\\\Documents\\\\train\\\\14.jpg'\n",
    "save_folder = 'C:\\\\Users\\\\User\\\\Documents\\\\project\\\\NewImage\\\\test3.jpg'\n",
    "\n",
    "\n",
    "import shutil\n",
    "try:\n",
    "    shutil.rmtree(save_folder)\n",
    "except OSError:\n",
    "    pass\n",
    "import os\n",
    "os.makedirs(save_folder)\n",
    "\n",
    "import cv2\n",
    "img = cv2.imread(origin_pic)\n",
    "imgray = cv2.cvtColor(img, cv2.COLOR_BGR2GRAY)\n",
    "\n",
    "import numpy as np\n",
    "for type in range(0, 5, 1):\n",
    "    _, thresh = cv2.threshold(src=imgray, thresh=150, maxval=100, type=type)\n",
    "    concat_pic = np.concatenate([imgray, thresh], axis=1)\n",
    "    cv2.imwrite('C:\\\\Users\\\\User\\\\Documents\\\\project\\\\NewImage\\\\test3.jpg\\\\type={}.jpg'.format(type), concat_pic)\n"
   ]
  },
  {
   "cell_type": "code",
   "execution_count": null,
   "id": "f5b5c8be",
   "metadata": {},
   "outputs": [],
   "source": []
  }
 ],
 "metadata": {
  "kernelspec": {
   "display_name": "Python 3",
   "language": "python",
   "name": "python3"
  },
  "language_info": {
   "codemirror_mode": {
    "name": "ipython",
    "version": 3
   },
   "file_extension": ".py",
   "mimetype": "text/x-python",
   "name": "python",
   "nbconvert_exporter": "python",
   "pygments_lexer": "ipython3",
   "version": "3.8.8"
  }
 },
 "nbformat": 4,
 "nbformat_minor": 5
}
